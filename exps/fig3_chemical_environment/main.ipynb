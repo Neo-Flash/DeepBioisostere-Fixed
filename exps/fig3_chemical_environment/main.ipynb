{
 "cells": [
  {
   "cell_type": "markdown",
   "metadata": {},
   "source": [
    "## Exp 02. Insertion fragment selection - Effect of chemical environment\n",
    "\n",
    "This file provides source codes for insertion fragment selection analysis.\n",
    "\n",
    "First, pre-selected two molecules are queried to DeepBioisostere to yield 100 modified structures for each input molecule and property control condition."
   ]
  },
  {
   "cell_type": "markdown",
   "metadata": {},
   "source": [
    "### Basics"
   ]
  },
  {
   "cell_type": "code",
   "execution_count": 1,
   "metadata": {},
   "outputs": [],
   "source": [
    "from pathlib import Path\n",
    "from copy import deepcopy\n",
    "from datetime import datetime\n",
    "from pathlib import Path\n",
    "from typing import Dict, List\n",
    "from collections import defaultdict\n",
    "from rdkit import Chem\n",
    "from rdkit.Chem.FragmentMatcher import FragmentMatcher\n",
    "from rdkit.Chem.QED import properties as qed_properties\n",
    "from rdkit.Chem.QED import WEIGHT_MEAN, ads, adsParameters\n",
    "from rdkit.Chem import BRICS\n",
    "\n",
    "import matplotlib.pyplot as plt\n",
    "import numpy as np\n",
    "import pandas as pd\n",
    "import seaborn as sns\n",
    "from rdkit import Chem\n",
    "from tqdm import tqdm\n",
    "\n",
    "from conditioning import Conditioner\n",
    "from generate import Generator\n",
    "from model import DeepBioisostere\n",
    "from property import calc_logP, calc_Mw, calc_QED, calc_SAscore\n",
    "from brics.brics import BRICSModule\n",
    "\n",
    "pd.options.mode.chained_assignment = None\n"
   ]
  },
  {
   "cell_type": "code",
   "execution_count": 2,
   "metadata": {},
   "outputs": [],
   "source": [
    "SMILES = str\n",
    "CAPILTAIER = {\"logp\": \"logP\", \"mw\": \"Mw\", \"qed\": \"QED\", \"sa\": \"SA\"}\n",
    "DELTA_PROPS = {\n",
    "    \"Mw\": r\"$\\Delta Mw$\",\n",
    "    \"logP\": r\"$\\Delta logP$\",\n",
    "    \"QED\": r\"$\\Delta QED$\",\n",
    "    \"SA\": r\"$\\Delta SA$\",\n",
    "}\n",
    "DE_DELTA_PROPS = {\n",
    "    r\"$\\Delta Mw$\": \"Mw\",\n",
    "    r\"$\\Delta logP$\": \"logP\",\n",
    "    r\"$\\Delta QED$\": \"QED\",\n",
    "    r\"$\\Delta SA$\": \"SA\",\n",
    "}"
   ]
  },
  {
   "cell_type": "markdown",
   "metadata": {},
   "source": [
    "### Define functions"
   ]
  },
  {
   "cell_type": "code",
   "execution_count": 3,
   "metadata": {},
   "outputs": [],
   "source": [
    "def calculate_properties(smi: SMILES, props: List[str]) -> Dict[str, float]:\n",
    "    mol = Chem.MolFromSmiles(smi)\n",
    "    calculated_values = dict()\n",
    "    for prop in props:\n",
    "        if prop == \"logp\":\n",
    "            calculated_values[\"logp\"] = calc_logP(mol)\n",
    "        elif prop == \"mw\":\n",
    "            calculated_values[\"mw\"] = calc_Mw(mol)\n",
    "        elif prop == \"qed\":\n",
    "            calculated_values[\"qed\"] = calc_QED(mol)\n",
    "        elif prop == \"sa\":\n",
    "            calculated_values[\"sa\"] = calc_SAscore(mol)\n",
    "    return calculated_values"
   ]
  },
  {
   "cell_type": "markdown",
   "metadata": {},
   "source": [
    "### Main part"
   ]
  },
  {
   "cell_type": "markdown",
   "metadata": {},
   "source": [
    "##### User settings for generation"
   ]
  },
  {
   "cell_type": "code",
   "execution_count": 13,
   "metadata": {},
   "outputs": [],
   "source": [
    "PROJECT_DIR = Path(\"/home/hwkim/DeepBioisostere\")   # Change this to your project directory\n",
    "\n",
    "batch_size = 256\n",
    "num_sample_each_mol = 100\n",
    "device = \"cuda:0\"\n",
    "target_prop = \"logp\"\n",
    "num_workers = 4\n",
    "new_frag_type = \"test\"              # One of [\"test\", \"val, \"train\", \"all\"]. The experiment in the paper uses \"test\""
   ]
  },
  {
   "cell_type": "markdown",
   "metadata": {},
   "source": [
    "##### Fragment library and DeepBioisostere generator setting"
   ]
  },
  {
   "cell_type": "code",
   "execution_count": 14,
   "metadata": {},
   "outputs": [
    {
     "name": "stdout",
     "output_type": "stream",
     "text": [
      "Generation with DeepBioisostere would be started.\n",
      "Model path to be loaded: /home/hwkim/DeepBioisostere/model_save/DeepBioisostere_logp.pt\n",
      "Fragment library path to be loaded: /home/share/DATA/hwkim/DeepBioisostere\n",
      "Loading the fragment library...\n",
      "Generator initialization finished.\n"
     ]
    }
   ],
   "source": [
    "# experiment settings\n",
    "# frag_lib_path = PROJECT_DIR.joinpath(\"fragment_library\")      # default path. please turn on this line.\n",
    "frag_lib_path = Path(\"/home/share/DATA/hwkim/DeepBioisostere\")        # our own server :)\n",
    "exp_dir = PROJECT_DIR.joinpath(\"exps/fig3_chemical_environment\")\n",
    "\n",
    "csv_save_dir = exp_dir.joinpath(\"./csv_files\")\n",
    "csv_save_path = csv_save_dir.joinpath(f\"{target_prop}_generation_result.csv\")\n",
    "\n",
    "properties = [target_prop]\n",
    "\n",
    "if csv_save_path.exists():\n",
    "    print(\n",
    "        f\"Generated molecules file already exists and is to be used: {csv_save_path.absolute()}\"\n",
    "    )\n",
    "    generator = None\n",
    "\n",
    "else:\n",
    "    joined_properties = \"_\".join(properties)\n",
    "    model_path = Path(PROJECT_DIR).joinpath(f\"model_save/DeepBioisostere_{joined_properties}.pt\")\n",
    "    print(\"Generation with DeepBioisostere would be started.\")\n",
    "    print(f\"Model path to be loaded: {model_path.absolute()}\")\n",
    "    print(f\"Fragment library path to be loaded: {frag_lib_path.absolute()}\")\n",
    "\n",
    "    # Initialize model, conditioner, and generator\n",
    "    model = DeepBioisostere.from_trained_model(model_path, properties=properties)\n",
    "    conditioner = Conditioner(\n",
    "        phase=\"generation\",\n",
    "        properties=properties,\n",
    "    )\n",
    "    generator = Generator(\n",
    "        model=model,\n",
    "        processed_frag_dir=frag_lib_path,\n",
    "        num_sample_each_mol=num_sample_each_mol,\n",
    "        device=device,\n",
    "        num_cores=num_workers,\n",
    "        batch_size=batch_size,\n",
    "        new_frag_type=new_frag_type,\n",
    "        conditioner=conditioner,\n",
    "        properties=properties,\n",
    "    )"
   ]
  },
  {
   "cell_type": "code",
   "execution_count": 15,
   "metadata": {},
   "outputs": [
    {
     "name": "stdout",
     "output_type": "stream",
     "text": [
      "Experiment result save directory: /home/hwkim/DeepBioisostere/exps/fig3_chemical_environment/250422_11-15-59\n"
     ]
    }
   ],
   "source": [
    "# Save directory setting\n",
    "current_time = datetime.now().strftime(\"%y%m%d_%H-%M-%S\")\n",
    "exp_save_dir = exp_dir.joinpath(current_time)\n",
    "exp_save_dir.mkdir()\n",
    "print(f\"Experiment result save directory: {exp_save_dir}\")\n"
   ]
  },
  {
   "cell_type": "code",
   "execution_count": 16,
   "metadata": {},
   "outputs": [
    {
     "name": "stdout",
     "output_type": "stream",
     "text": [
      "Test molecule pair data path to be used: /home/hwkim/DeepBioisostere/exps/fig3_chemical_environment/csv_files/test_molecule_pairs.csv\n"
     ]
    }
   ],
   "source": [
    "# Load the test molecule pair\n",
    "test_molecule_pair_data = csv_save_dir.joinpath(\"test_molecule_pairs.csv\")\n",
    "test_molecule_pair_df = pd.read_csv(test_molecule_pair_data, sep=\"\\t\")\n",
    "removal_frag_smiles_pairs = set()\n",
    "for row_idx, row in test_molecule_pair_df.iterrows():\n",
    "    removal_frag, smi1, smi2 = row[\"REMOVAL-FRAG\"], row[\"SMILES1\"], row[\"SMILES2\"]\n",
    "    removal_frag_smiles_pairs.add((removal_frag, smi1, smi2))\n",
    "print(\n",
    "    f\"Test molecule pair data path to be used: {test_molecule_pair_data.absolute()}\"\n",
    ")"
   ]
  },
  {
   "cell_type": "markdown",
   "metadata": {},
   "source": [
    "##### Generation"
   ]
  },
  {
   "cell_type": "code",
   "execution_count": 17,
   "metadata": {},
   "outputs": [
    {
     "name": "stdout",
     "output_type": "stream",
     "text": [
      "Molecule generation result file would be saved at: /home/hwkim/DeepBioisostere/exps/fig3_chemical_environment/csv_files/logp_generation_result.csv\n",
      "Generation with DeepBioisostere would be started. Target property: logp\n",
      "Length of input list: 2\n"
     ]
    }
   ],
   "source": [
    "if generator:\n",
    "    print( f\"Molecule generation result file would be saved at: {csv_save_path.absolute()}\")\n",
    "\n",
    "    # Make input list Increasing QED by +0.1 and Increasing logP by +1.0.\n",
    "    if target_prop == \"qed\":\n",
    "        prop_control_condition = {\"qed\": +0.1}\n",
    "    elif target_prop == \"logp\":\n",
    "        prop_control_condition = {\"logp\": +1.0}\n",
    "    else:\n",
    "        raise ValueError(\"Invalid target property.\")\n",
    "\n",
    "    input_list = list()\n",
    "    for removal_frag, smi1, smi2 in removal_frag_smiles_pairs:\n",
    "        for smiles in [smi1, smi2]:\n",
    "            smiles = Chem.MolToSmiles(Chem.MolFromSmiles(smiles))\n",
    "            removal_frag_copy = deepcopy(removal_frag)\n",
    "            # Initialization\n",
    "            mol = Chem.MolFromSmiles(smiles)\n",
    "            matcher_with_dummy = FragmentMatcher()\n",
    "            matcher_with_dummy.Init(removal_frag_copy)\n",
    "\n",
    "            matches = matcher_with_dummy.GetMatches(mol)\n",
    "            if len(matches) > 1:\n",
    "                continue\n",
    "            match = matches[0]\n",
    "\n",
    "            # Get matcher_without_dummy FragmentMatcher\n",
    "            removal_frag_without_dummy = removal_frag_copy.replace(\"[*]\", \"\")\n",
    "            removal_frag_without_dummy = removal_frag_without_dummy.replace(\"()\", \"\")\n",
    "            matcher_without_dummy = FragmentMatcher()\n",
    "            matcher_without_dummy.Init(removal_frag_without_dummy)\n",
    "\n",
    "            matches_without_dummy = matcher_without_dummy.GetMatches(mol)\n",
    "            for match_without_dummy in matches_without_dummy:\n",
    "                if all(list(map(lambda x: x in match, match_without_dummy))):\n",
    "                    mark_atom_idx = match_without_dummy[0]\n",
    "                    break\n",
    "            else:\n",
    "                raise ValueError(\"No match_without_dummy is found.\")\n",
    "\n",
    "            # Add to input list\n",
    "            removal_frag_copy = removal_frag_copy.replace(\"[c;H1]\", \"c\")\n",
    "            removal_frag_copy = removal_frag_copy.replace(\"[n;H1]\", \"[nH]\")\n",
    "            removal_frag_copy = removal_frag_copy.replace(\"[n;H0]\", \"n\")\n",
    "            removal_frag_copy = removal_frag_copy.replace(\"[s;X2]\", \"s\")\n",
    "            removal_frag_copy = removal_frag_copy.replace(\"[o;X2]\", \"o\")\n",
    "            removal_frag_copy = removal_frag_copy.replace(\"[O;H1]\", \"O\")\n",
    "            removal_frag_copy = removal_frag_copy.replace(\"[N;H2]\", \"N\")\n",
    "            if (smiles.strip(), removal_frag_copy, mark_atom_idx, {\"qed\": +0.2}) not in input_list:\n",
    "                input_list.append((smiles.strip(), removal_frag_copy, mark_atom_idx, prop_control_condition))\n",
    "\n",
    "    # 3. Generate with DeepBioisostere\n",
    "    print(f\"Generation with DeepBioisostere would be started. Target property: {target_prop}\")\n",
    "    print(f\"Length of input list: {len(input_list)}\")\n",
    "    generation_df = generator.generate_with_leaving_frag(input_list)\n",
    "    generation_df.to_csv(csv_save_path, index=False)\n",
    "\n",
    "else:\n",
    "    print(f\"Generated molecule file already exists and is to be loaded:\\n{csv_save_path}\")\n",
    "    generation_df = pd.read_csv(csv_save_path)\n",
    "    print(generation_df.shape)"
   ]
  },
  {
   "cell_type": "markdown",
   "metadata": {},
   "source": [
    "##### Analyze"
   ]
  },
  {
   "cell_type": "code",
   "execution_count": 18,
   "metadata": {},
   "outputs": [],
   "source": [
    "# columns: molecule-A, molecule-B, removal_frag, insertion_frag, gen-mol-smi, gen-logp, gen-qed, case\n",
    "\n",
    "# Save Dataframe\n",
    "retrieved_results = pd.DataFrame(\n",
    "    columns=[\n",
    "        \"MOLECULE-A\",\n",
    "        \"MOLECULE-B\",\n",
    "        \"REMOVAL-FRAG\",\n",
    "        \"INSERTION-FRAG\",\n",
    "        \"GEN-MOL-SMI\",\n",
    "        \"DELTA-LOGP\",\n",
    "        \"DELTA-QED\",\n",
    "        \"CASE\",\n",
    "    ]\n",
    ")\n",
    "\n",
    "list_mol_A, list_mol_B, list_removal_frag, list_insertion_frag, list_gen_mol_smi, list_delta_logp, list_delta_qed, list_case = [], [], [], [], [], [], [], []\n",
    "\n",
    "topk = num_sample_each_mol\n",
    "for idx, row in test_molecule_pair_df.iterrows():\n",
    "    removal_frag, smi1, smi2 = row[\"REMOVAL-FRAG\"], row[\"SMILES1\"], row[\"SMILES2\"]\n",
    "    gen_mols_1 = generation_df[generation_df[\"INPUT-MOL-SMI\"] == smi1]\n",
    "    gen_mols_2 = generation_df[generation_df[\"INPUT-MOL-SMI\"] == smi2]\n",
    "    if gen_mols_1.shape[0] > 3*topk or gen_mols_2.shape[0] > 3*topk:\n",
    "        continue\n",
    "\n",
    "    # properties of original molecules\n",
    "    mol1, mol2 = Chem.MolFromSmiles(smi1), Chem.MolFromSmiles(smi2)\n",
    "    logp1, logp2 = calc_logP(mol1), calc_logP(mol2)\n",
    "    qed1, qed2 = calc_QED(mol1), calc_QED(mol2)\n",
    "\n",
    "    # NOTE: molecule-A = smi1, molecule-B = smi2\n",
    "    # 1. A -> B\n",
    "    topk_insertion_frag_in_A = gen_mols_1[\"INSERTING-FRAG-SMI\"].values[:topk]\n",
    "    removal_frag_without_dummy = removal_frag.replace(\"[*]\", \"\").replace(\"()\", \"\")\n",
    "\n",
    "    # Find remaining frags\n",
    "    fm = FragmentMatcher()\n",
    "    fm.Init(removal_frag_without_dummy)\n",
    "    matches_in_B = fm.GetMatches(mol2)\n",
    "    if len(matches_in_B) > 1:\n",
    "        continue\n",
    "\n",
    "    match_in_B = matches_in_B[0]\n",
    "    brics_bonds_in_B = BRICS.FindBRICSBonds(mol2)\n",
    "    target_brics_bond = list(filter(lambda x: x[0][0] in match_in_B or x[0][1] in match_in_B, brics_bonds_in_B))\n",
    "    broken_mol = BRICS.BreakBRICSBonds(mol2, target_brics_bond)\n",
    "    # remaining_frag = list(filter(lambda x: x != target_frag_smiles_list[0], Chem.MolToSmiles(broken_mol).split(\".\")))\n",
    "    remaining_frag = max(Chem.MolToSmiles(broken_mol).split(\".\"), key=lambda x: len(x))\n",
    "\n",
    "    # Merge remaining frag and insertiong frags from molecule A\n",
    "    for insertion_frag_in_A in topk_insertion_frag_in_A:\n",
    "        remaining_frag_mol = Chem.MolFromSmiles(remaining_frag)\n",
    "        remaining_frag_dummy_atom_idx = [atom.GetIdx() for atom in remaining_frag_mol.GetAtoms() if atom.GetSymbol() == \"*\"][0]\n",
    "        neighbor_atom_idx = remaining_frag_mol.GetAtomWithIdx(remaining_frag_dummy_atom_idx).GetNeighbors()[0].GetIdx()\n",
    "\n",
    "        insertion_frag_mol = Chem.MolFromSmiles(insertion_frag_in_A)\n",
    "        composed_mol = BRICSModule.compose_two_mols(remaining_frag_mol, insertion_frag_mol, neighbor_atom_idx)\n",
    "\n",
    "        list_mol_A.append(smi1)\n",
    "        list_mol_B.append(smi2)\n",
    "        list_removal_frag.append(removal_frag)\n",
    "        list_insertion_frag.append(insertion_frag_in_A)\n",
    "        list_gen_mol_smi.append(Chem.MolToSmiles(composed_mol))\n",
    "        list_delta_logp.append(calc_logP(composed_mol) - logp2)\n",
    "        list_delta_qed.append(calc_QED(composed_mol) - qed2)\n",
    "        list_case.append(r\"A $\\rightarrow$ B\")\n",
    "\n",
    "    # 2. A -> A\n",
    "    list_mol_A.extend([smi1] * topk)\n",
    "    list_mol_B.extend([smi2] * topk)\n",
    "    list_removal_frag.extend([removal_frag] * topk)\n",
    "    list_insertion_frag.extend(gen_mols_1[\"INSERTING-FRAG-SMI\"].values[:topk])\n",
    "    list_gen_mol_smi.extend(gen_mols_1[\"GEN-MOL-SMI\"].values[:topk])\n",
    "    list_delta_logp.extend(gen_mols_1[\"LOGP\"].values[:topk] - logp1)\n",
    "    list_delta_qed.extend(gen_mols_1[\"QED\"].values[:topk] - qed1)\n",
    "    list_case.extend([r\"A $\\rightarrow$ A\"] * topk)\n",
    "\n",
    "    # 3. B -> B\n",
    "    list_mol_A.extend([smi1] * topk)\n",
    "    list_mol_B.extend([smi2] * topk)\n",
    "    list_removal_frag.extend([removal_frag] * topk)\n",
    "    list_insertion_frag.extend(gen_mols_2[\"INSERTING-FRAG-SMI\"].values[:topk])\n",
    "    list_gen_mol_smi.extend(gen_mols_2[\"GEN-MOL-SMI\"].values[:topk])\n",
    "    list_delta_logp.extend(gen_mols_2[\"LOGP\"].values[:topk] - logp2)\n",
    "    list_delta_qed.extend(gen_mols_2[\"QED\"].values[:topk] - qed2)\n",
    "    list_case.extend([r\"B $\\rightarrow$ B\"] * topk)\n",
    "\n",
    "# Save to the dataframe\n",
    "retrieved_results[\"MOLECULE-A\"] = list_mol_A\n",
    "retrieved_results[\"MOLECULE-B\"] = list_mol_B\n",
    "retrieved_results[\"REMOVAL-FRAG\"] = list_removal_frag\n",
    "retrieved_results[\"INSERTION-FRAG\"] = list_insertion_frag\n",
    "retrieved_results[\"GEN-MOL-SMI\"] = list_gen_mol_smi\n",
    "retrieved_results[\"DELTA-LOGP\"] = list_delta_logp\n",
    "retrieved_results[\"DELTA-QED\"]  = list_delta_qed\n",
    "retrieved_results[\"CASE\"] = list_case\n",
    "\n",
    "# Save to the csv file\n",
    "retrieved_results.to_csv(exp_save_dir / f\"{target_prop}_data_for_figure.csv\", index=False)\n",
    "retrieved_results.to_csv(csv_save_dir / f\"{target_prop}_data_for_figure.csv\", index=False)\n",
    "        "
   ]
  },
  {
   "cell_type": "markdown",
   "metadata": {},
   "source": [
    "##### Plot figures"
   ]
  },
  {
   "cell_type": "code",
   "execution_count": 19,
   "metadata": {},
   "outputs": [
    {
     "name": "stdout",
     "output_type": "stream",
     "text": [
      "0, molA:Cc1nc2ccc(Cl)cc2c(-n2ccc3c(O)cc(-c4cn[nH]c4)cc32)c1C, molB:NC(=O)[C@H](Cc1ccccc1)NC(=O)[C@H](CS)NC(=O)c1cn[nH]c1\n",
      "\n",
      "0, molA:Cc1nc2ccc(Cl)cc2c(-n2ccc3c(O)cc(-c4cn[nH]c4)cc32)c1C, molB:NC(=O)[C@H](Cc1ccccc1)NC(=O)[C@H](CS)NC(=O)c1cn[nH]c1\n"
     ]
    },
    {
     "data": {
      "image/png": "[encoded data removed]",
      "text/plain": [
       "<Figure size 640x480 with 1 Axes>"
      ]
     },
     "metadata": {},
     "output_type": "display_data"
    }
   ],
   "source": [
    "import warnings\n",
    "warnings.filterwarnings(\"ignore\", category=FutureWarning)\n",
    "sns.set_theme(style=\"ticks\")\n",
    "result_df = retrieved_results\n",
    "\n",
    "unique_inputs_set = set()\n",
    "mol_A_list = result_df[\"MOLECULE-A\"].to_list()\n",
    "mol_B_list = result_df[\"MOLECULE-B\"].to_list()\n",
    "removal_frag_list = result_df[\"REMOVAL-FRAG\"].to_list()\n",
    "\n",
    "for mol_A, mol_B, removal_frag in zip(mol_A_list, mol_B_list, removal_frag_list):\n",
    "    unique_inputs_set.add((mol_A, mol_B, removal_frag))\n",
    "\n",
    "for idx, (mol_A, mol_B, removal_frag) in enumerate(unique_inputs_set):\n",
    "    print(f\"{idx}, molA:{mol_A}, molB:{mol_B}\")\n",
    "print()\n",
    "\n",
    "for idx, (mol_A, mol_B, removal_frag) in enumerate(unique_inputs_set):\n",
    "    print(f\"{idx}, molA:{mol_A}, molB:{mol_B}\")\n",
    "    each_df = result_df[\n",
    "        (result_df[\"MOLECULE-A\"] == mol_A)\n",
    "        & (result_df[\"MOLECULE-B\"] == mol_B)\n",
    "        & (result_df[\"REMOVAL-FRAG\"] == removal_frag)\n",
    "        # & (result_df[\"CASE\"] != \"B $\\\\rightarrow$ B\")\n",
    "    ]\n",
    "    removal_frag = each_df[\"REMOVAL-FRAG\"].to_list()[0]\n",
    "\n",
    "    # 1. kdeplot without histogram\n",
    "    g = sns.kdeplot(\n",
    "        data=each_df,\n",
    "        x = f\"DELTA-{target_prop.upper()}\",\n",
    "        hue = \"CASE\",\n",
    "        hue_order=[r\"A $\\rightarrow$ A\", r\"B $\\rightarrow$ B\", r\"A $\\rightarrow$ B\"],\n",
    "        fill = True,\n",
    "    )\n",
    "    plt.fill_between(x=each_df[f\"DELTA-{target_prop.upper()}\"], y1=0, alpha=0.3)\n",
    "\n",
    "    # Setting font sizes\n",
    "    g.axes.set_xlabel(f\"$\\Delta${target_prop.upper()}\", fontsize=18)\n",
    "    g.axes.set_ylabel(\"Density\", fontsize=18)\n",
    "\n",
    "    legend = g.axes.get_legend()\n",
    "    legend.set_title(\"\")\n",
    "    for text in legend.texts:\n",
    "        text.set_fontsize(16)\n",
    "    legend.loc = \"upper left\"\n",
    "\n",
    "    # Set x and y ticks\n",
    "    x_ticks = list(g.axes.get_xticks())\n",
    "    y_ticks = list(g.axes.get_yticks())\n",
    "\n",
    "    x_min, x_max = x_ticks[0], x_ticks[-1]\n",
    "    # x_min = round(x_min * 20) / 20\n",
    "    # x_max = round(x_max * 20) / 20\n",
    "    if target_prop == 'qed':\n",
    "        x_min = -0.4\n",
    "        x_max = 0.4\n",
    "        if x_max-x_min > 1.0:\n",
    "            tick_size = 0.2\n",
    "        else:\n",
    "            tick_size = 0.1\n",
    "    elif target_prop == 'logp':\n",
    "        x_min = 0.0\n",
    "        x_max = 2.0\n",
    "        plt.xlim(-0.1, 2.3)\n",
    "        if x_max-x_min > 1.0:\n",
    "            tick_size = 0.5\n",
    "        else:\n",
    "            tick_size = 0.1\n",
    "    x_ticks = list(np.arange(x_min, x_max + 0.05, tick_size))\n",
    "    y_min, y_max = y_ticks[0], y_ticks[-1]\n",
    "    y_ticks = list(np.arange(y_min, y_max + 0.3, 0.5))\n",
    "\n",
    "    g.axes.set_xticks(x_ticks)\n",
    "    g.axes.set_yticks(y_ticks)\n",
    "    g.axes.set_xticklabels(g.axes.get_xticklabels(), fontsize=16)\n",
    "    g.axes.set_yticklabels(g.axes.get_yticklabels(), fontsize=16)\n",
    "\n",
    "    plt.tight_layout()\n",
    "    plt.subplots_adjust(bottom=0.15)\n",
    "\n",
    "    plt.savefig(exp_save_dir / f\"kde_{target_prop}_{idx}.pdf\", format=\"pdf\", facecolor=\"white\")\n",
    "    plt.show()\n",
    "    plt.close(\"all\")\n",
    "\n"
   ]
  }
 ],
 "metadata": {
  "kernelspec": {
   "display_name": "Bioiso",
   "language": "python",
   "name": "bioiso"
  },
  "language_info": {
   "codemirror_mode": {
    "name": "ipython",
    "version": 3
   },
   "file_extension": ".py",
   "mimetype": "text/x-python",
   "name": "python",
   "nbconvert_exporter": "python",
   "pygments_lexer": "ipython3",
   "version": "3.9.19"
  }
 },
 "nbformat": 4,
 "nbformat_minor": 2
}
